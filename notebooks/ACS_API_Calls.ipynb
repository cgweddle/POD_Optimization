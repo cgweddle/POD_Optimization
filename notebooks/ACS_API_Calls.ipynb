{
 "cells": [
  {
   "cell_type": "code",
   "execution_count": 99,
   "id": "bb93ed8c",
   "metadata": {},
   "outputs": [],
   "source": [
    "import requests\n",
    "import json\n",
    "import pandas as pd"
   ]
  },
  {
   "cell_type": "code",
   "execution_count": 2,
   "id": "a4a3f601",
   "metadata": {},
   "outputs": [],
   "source": [
    "state='24'\n",
    "get='B08201'"
   ]
  },
  {
   "cell_type": "code",
   "execution_count": 14,
   "id": "47e68c33",
   "metadata": {},
   "outputs": [],
   "source": [
    "call = f\"https://api.census.gov/data/2019/acs/acs5?get=NAME&for=county&in=state:42&key=60f45d14da19259448e4ef39a0f612b15194dbe8\"\n",
    "\n",
    "response = requests.get(call)"
   ]
  },
  {
   "cell_type": "code",
   "execution_count": 15,
   "id": "d9305873",
   "metadata": {},
   "outputs": [
    {
     "data": {
      "text/plain": [
       "<Response [200]>"
      ]
     },
     "execution_count": 15,
     "metadata": {},
     "output_type": "execute_result"
    }
   ],
   "source": [
    "response"
   ]
  },
  {
   "cell_type": "code",
   "execution_count": 16,
   "id": "708f62f0",
   "metadata": {},
   "outputs": [
    {
     "data": {
      "text/plain": [
       "[['NAME', 'state', 'county'],\n",
       " ['Delaware County, Pennsylvania', '42', '045'],\n",
       " ['Somerset County, Pennsylvania', '42', '111'],\n",
       " ['Cameron County, Pennsylvania', '42', '023'],\n",
       " ['Bucks County, Pennsylvania', '42', '017'],\n",
       " ['Lehigh County, Pennsylvania', '42', '077'],\n",
       " ['Clarion County, Pennsylvania', '42', '031'],\n",
       " ['Greene County, Pennsylvania', '42', '059'],\n",
       " ['Luzerne County, Pennsylvania', '42', '079'],\n",
       " ['Columbia County, Pennsylvania', '42', '037'],\n",
       " ['Jefferson County, Pennsylvania', '42', '065'],\n",
       " ['Perry County, Pennsylvania', '42', '099'],\n",
       " ['Sullivan County, Pennsylvania', '42', '113'],\n",
       " ['Pike County, Pennsylvania', '42', '103'],\n",
       " ['Snyder County, Pennsylvania', '42', '109'],\n",
       " ['Susquehanna County, Pennsylvania', '42', '115'],\n",
       " ['Crawford County, Pennsylvania', '42', '039'],\n",
       " ['Erie County, Pennsylvania', '42', '049'],\n",
       " ['Fulton County, Pennsylvania', '42', '057'],\n",
       " ['Juniata County, Pennsylvania', '42', '067'],\n",
       " ['Schuylkill County, Pennsylvania', '42', '107'],\n",
       " ['Wyoming County, Pennsylvania', '42', '131'],\n",
       " ['Adams County, Pennsylvania', '42', '001'],\n",
       " ['Armstrong County, Pennsylvania', '42', '005'],\n",
       " ['Clinton County, Pennsylvania', '42', '035'],\n",
       " ['Carbon County, Pennsylvania', '42', '025'],\n",
       " ['Centre County, Pennsylvania', '42', '027'],\n",
       " ['Northumberland County, Pennsylvania', '42', '097'],\n",
       " ['Northampton County, Pennsylvania', '42', '095'],\n",
       " ['Venango County, Pennsylvania', '42', '121'],\n",
       " ['Beaver County, Pennsylvania', '42', '007'],\n",
       " ['Lackawanna County, Pennsylvania', '42', '069'],\n",
       " ['McKean County, Pennsylvania', '42', '083'],\n",
       " ['Fayette County, Pennsylvania', '42', '051'],\n",
       " ['Montgomery County, Pennsylvania', '42', '091'],\n",
       " ['Clearfield County, Pennsylvania', '42', '033'],\n",
       " ['Lebanon County, Pennsylvania', '42', '075'],\n",
       " ['Lycoming County, Pennsylvania', '42', '081'],\n",
       " ['Montour County, Pennsylvania', '42', '093'],\n",
       " ['Warren County, Pennsylvania', '42', '123'],\n",
       " ['Butler County, Pennsylvania', '42', '019'],\n",
       " ['Elk County, Pennsylvania', '42', '047'],\n",
       " ['Lancaster County, Pennsylvania', '42', '071'],\n",
       " ['Mercer County, Pennsylvania', '42', '085'],\n",
       " ['Potter County, Pennsylvania', '42', '105'],\n",
       " ['Tioga County, Pennsylvania', '42', '117'],\n",
       " ['Dauphin County, Pennsylvania', '42', '043'],\n",
       " ['Franklin County, Pennsylvania', '42', '055'],\n",
       " ['Union County, Pennsylvania', '42', '119'],\n",
       " ['Wayne County, Pennsylvania', '42', '127'],\n",
       " ['Bedford County, Pennsylvania', '42', '009'],\n",
       " ['Monroe County, Pennsylvania', '42', '089'],\n",
       " ['Huntingdon County, Pennsylvania', '42', '061'],\n",
       " ['Washington County, Pennsylvania', '42', '125'],\n",
       " ['Philadelphia County, Pennsylvania', '42', '101'],\n",
       " ['York County, Pennsylvania', '42', '133'],\n",
       " ['Indiana County, Pennsylvania', '42', '063'],\n",
       " ['Cumberland County, Pennsylvania', '42', '041'],\n",
       " ['Allegheny County, Pennsylvania', '42', '003'],\n",
       " ['Westmoreland County, Pennsylvania', '42', '129'],\n",
       " ['Forest County, Pennsylvania', '42', '053'],\n",
       " ['Blair County, Pennsylvania', '42', '013'],\n",
       " ['Lawrence County, Pennsylvania', '42', '073'],\n",
       " ['Bradford County, Pennsylvania', '42', '015'],\n",
       " ['Cambria County, Pennsylvania', '42', '021'],\n",
       " ['Chester County, Pennsylvania', '42', '029'],\n",
       " ['Berks County, Pennsylvania', '42', '011'],\n",
       " ['Mifflin County, Pennsylvania', '42', '087']]"
      ]
     },
     "execution_count": 16,
     "metadata": {},
     "output_type": "execute_result"
    }
   ],
   "source": [
    "response.json()"
   ]
  },
  {
   "cell_type": "code",
   "execution_count": 24,
   "id": "e64aad1b",
   "metadata": {},
   "outputs": [],
   "source": [
    "call = f\"https://api.census.gov/data/2019/acs/acs5?get=NAME,group({get})&for=tract&in=state:42%20county:003&key=60f45d14da19259448e4ef39a0f612b15194dbe8\"\n",
    "\n",
    "response = requests.get(call)"
   ]
  },
  {
   "cell_type": "code",
   "execution_count": 27,
   "id": "aa8f24cf",
   "metadata": {},
   "outputs": [
    {
     "data": {
      "text/plain": [
       "<Response [200]>"
      ]
     },
     "execution_count": 27,
     "metadata": {},
     "output_type": "execute_result"
    }
   ],
   "source": [
    "response"
   ]
  },
  {
   "cell_type": "code",
   "execution_count": 47,
   "id": "fbc6d024",
   "metadata": {},
   "outputs": [],
   "source": [
    "\"\"\"\n",
    "Possible useful variables\n",
    "DP04_0002E: Total occupied housing units\n",
    "DP04_0057E: Estimate of occupied housing units with a vehicle available\n",
    "DP04_0058E: Estimate of occupied housing units with no vehicle available\n",
    "\"\"\"\n",
    "get = 'DP04_0002E,DP04_0057E,DP04_0058E'"
   ]
  },
  {
   "cell_type": "code",
   "execution_count": 54,
   "id": "f50bc9da",
   "metadata": {},
   "outputs": [],
   "source": [
    "call = f\"https://api.census.gov/data/2019/acs/acs5?get=group({get})&for=tract&in=state:42%20county:003&key=60f45d14da19259448e4ef39a0f612b15194dbe8\"\n",
    "response = requests.get(call)"
   ]
  },
  {
   "cell_type": "code",
   "execution_count": 55,
   "id": "3bdfafcb",
   "metadata": {},
   "outputs": [
    {
     "data": {
      "text/plain": [
       "<Response [400]>"
      ]
     },
     "execution_count": 55,
     "metadata": {},
     "output_type": "execute_result"
    }
   ],
   "source": [
    "response"
   ]
  },
  {
   "cell_type": "code",
   "execution_count": 66,
   "id": "e7470bd3",
   "metadata": {},
   "outputs": [],
   "source": [
    "call = f\"https://api.census.gov/data/2019/acs/acs5?get=DP04_0057E&for=county&in=state:42&key=60f45d14da19259448e4ef39a0f612b15194dbe8\"\n",
    "\n",
    "response=requests.get(call)\n"
   ]
  },
  {
   "cell_type": "code",
   "execution_count": 68,
   "id": "18b57411",
   "metadata": {},
   "outputs": [
    {
     "data": {
      "text/plain": [
       "<Response [400]>"
      ]
     },
     "execution_count": 68,
     "metadata": {},
     "output_type": "execute_result"
    }
   ],
   "source": [
    "response"
   ]
  },
  {
   "cell_type": "code",
   "execution_count": null,
   "id": "5f6dc6a9",
   "metadata": {},
   "outputs": [],
   "source": [
    "\"\"\"\n",
    "B08201: Household size by vehicles available\n",
    "B08201_001E: Total households\n",
    "B08201_002E: total households with no vehcile available\n",
    "\n",
    "B11001_001E: Estimate of total number of households\n",
    "\"\"\""
   ]
  },
  {
   "cell_type": "code",
   "execution_count": 94,
   "id": "c4a97364",
   "metadata": {},
   "outputs": [],
   "source": [
    "call = f\"https://api.census.gov/data/2019/acs/acs5?get=B08201_001E&for=tract&in=state:42%20county:003&key=60f45d14da19259448e4ef39a0f612b15194dbe8\"\n",
    "response=requests.get(call)\n"
   ]
  },
  {
   "cell_type": "code",
   "execution_count": 95,
   "id": "d46be276",
   "metadata": {},
   "outputs": [
    {
     "data": {
      "text/plain": [
       "403"
      ]
     },
     "execution_count": 95,
     "metadata": {},
     "output_type": "execute_result"
    }
   ],
   "source": [
    "len(response.json())"
   ]
  },
  {
   "cell_type": "code",
   "execution_count": 97,
   "id": "45e6a4ae",
   "metadata": {},
   "outputs": [],
   "source": [
    "households = response.json()"
   ]
  },
  {
   "cell_type": "code",
   "execution_count": 100,
   "id": "cdf9790a",
   "metadata": {},
   "outputs": [],
   "source": [
    "households_df = pd.DataFrame(households)"
   ]
  },
  {
   "cell_type": "code",
   "execution_count": 102,
   "id": "23621b88",
   "metadata": {},
   "outputs": [],
   "source": [
    "households_df = pd.DataFrame(households_df.values[1:], columns = households_df.iloc[0])"
   ]
  },
  {
   "cell_type": "code",
   "execution_count": 104,
   "id": "7958d4ff",
   "metadata": {},
   "outputs": [],
   "source": [
    "households_df = households_df.rename(columns={'B08201_001E': 'Total_Households'})"
   ]
  },
  {
   "cell_type": "code",
   "execution_count": 106,
   "id": "00b432b7",
   "metadata": {},
   "outputs": [],
   "source": [
    "households_df = households_df[[\"Total_Households\", \"tract\"]]"
   ]
  },
  {
   "cell_type": "code",
   "execution_count": 108,
   "id": "dd824aa9",
   "metadata": {},
   "outputs": [],
   "source": [
    "households_df.set_index('tract', inplace=True)"
   ]
  },
  {
   "cell_type": "code",
   "execution_count": 109,
   "id": "e40c0be9",
   "metadata": {},
   "outputs": [
    {
     "name": "stderr",
     "output_type": "stream",
     "text": [
      "C:\\Users\\cgwed\\Anaconda3\\lib\\site-packages\\pandas\\core\\frame.py:5591: SettingWithCopyWarning: \n",
      "A value is trying to be set on a copy of a slice from a DataFrame\n",
      "\n",
      "See the caveats in the documentation: https://pandas.pydata.org/pandas-docs/stable/user_guide/indexing.html#returning-a-view-versus-a-copy\n",
      "  key,\n"
     ]
    }
   ],
   "source": [
    "households_df.sort_index(inplace=True)"
   ]
  },
  {
   "cell_type": "code",
   "execution_count": 110,
   "id": "4ca4bfa1",
   "metadata": {},
   "outputs": [
    {
     "data": {
      "text/html": [
       "<div>\n",
       "<style scoped>\n",
       "    .dataframe tbody tr th:only-of-type {\n",
       "        vertical-align: middle;\n",
       "    }\n",
       "\n",
       "    .dataframe tbody tr th {\n",
       "        vertical-align: top;\n",
       "    }\n",
       "\n",
       "    .dataframe thead th {\n",
       "        text-align: right;\n",
       "    }\n",
       "</style>\n",
       "<table border=\"1\" class=\"dataframe\">\n",
       "  <thead>\n",
       "    <tr style=\"text-align: right;\">\n",
       "      <th></th>\n",
       "      <th>Total_Households</th>\n",
       "    </tr>\n",
       "    <tr>\n",
       "      <th>tract</th>\n",
       "      <th></th>\n",
       "    </tr>\n",
       "  </thead>\n",
       "  <tbody>\n",
       "    <tr>\n",
       "      <th>010300</th>\n",
       "      <td>322</td>\n",
       "    </tr>\n",
       "    <tr>\n",
       "      <th>020100</th>\n",
       "      <td>2714</td>\n",
       "    </tr>\n",
       "    <tr>\n",
       "      <th>020300</th>\n",
       "      <td>821</td>\n",
       "    </tr>\n",
       "    <tr>\n",
       "      <th>030500</th>\n",
       "      <td>1145</td>\n",
       "    </tr>\n",
       "    <tr>\n",
       "      <th>040200</th>\n",
       "      <td>600</td>\n",
       "    </tr>\n",
       "    <tr>\n",
       "      <th>...</th>\n",
       "      <td>...</td>\n",
       "    </tr>\n",
       "    <tr>\n",
       "      <th>981000</th>\n",
       "      <td>0</td>\n",
       "    </tr>\n",
       "    <tr>\n",
       "      <th>981100</th>\n",
       "      <td>0</td>\n",
       "    </tr>\n",
       "    <tr>\n",
       "      <th>981200</th>\n",
       "      <td>0</td>\n",
       "    </tr>\n",
       "    <tr>\n",
       "      <th>981800</th>\n",
       "      <td>0</td>\n",
       "    </tr>\n",
       "    <tr>\n",
       "      <th>982200</th>\n",
       "      <td>8</td>\n",
       "    </tr>\n",
       "  </tbody>\n",
       "</table>\n",
       "<p>402 rows × 1 columns</p>\n",
       "</div>"
      ],
      "text/plain": [
       "0      Total_Households\n",
       "tract                  \n",
       "010300              322\n",
       "020100             2714\n",
       "020300              821\n",
       "030500             1145\n",
       "040200              600\n",
       "...                 ...\n",
       "981000                0\n",
       "981100                0\n",
       "981200                0\n",
       "981800                0\n",
       "982200                8\n",
       "\n",
       "[402 rows x 1 columns]"
      ]
     },
     "execution_count": 110,
     "metadata": {},
     "output_type": "execute_result"
    }
   ],
   "source": [
    "households_df"
   ]
  },
  {
   "cell_type": "code",
   "execution_count": 111,
   "id": "8de28c35",
   "metadata": {},
   "outputs": [],
   "source": [
    "households_df.to_csv('number_households.csv', index=True)"
   ]
  },
  {
   "cell_type": "code",
   "execution_count": 121,
   "id": "e22e10fe",
   "metadata": {},
   "outputs": [],
   "source": [
    "novehicle_call = f\"https://api.census.gov/data/2019/acs/acs5?get=B08201_002E&for=tract&in=state:42%20county:003&key=60f45d14da19259448e4ef39a0f612b15194dbe8\"\n",
    "novehicle_response=requests.get(novehicle_call)"
   ]
  },
  {
   "cell_type": "code",
   "execution_count": 122,
   "id": "8cec4dcf",
   "metadata": {},
   "outputs": [],
   "source": [
    "no_vehicle = novehicle_response.json()"
   ]
  },
  {
   "cell_type": "code",
   "execution_count": 133,
   "id": "f0c459e0",
   "metadata": {},
   "outputs": [
    {
     "name": "stdout",
     "output_type": "stream",
     "text": [
      "0 Households_Without_Vehicle state county   tract\n",
      "0                         75    42    003  480102\n",
      "1                        252    42    003  484500\n",
      "2                         73    42    003  010300\n",
      "3                        954    42    003  020100\n",
      "4                        232    42    003  040200\n"
     ]
    }
   ],
   "source": [
    "no_vehicle_df = pd.DataFrame(no_vehicle)\n",
    "no_vehicle_df = pd.DataFrame(no_vehicle_df.values[1:], columns = no_vehicle_df.iloc[0])\n",
    "no_vehicle_df = no_vehicle_df.rename(columns={'B08201_002E': 'Households_Without_Vehicle'})\n",
    "print(no_vehicle_df.head())\n",
    "no_vehicle_df = no_vehicle_df[[\"Households_Without_Vehicle\", \"tract\"]]\n",
    "no_vehicle_df.set_index('tract', inplace=True)\n",
    "no_vehicle_df.sort_index(inplace=True)"
   ]
  },
  {
   "cell_type": "code",
   "execution_count": 134,
   "id": "38e9c652",
   "metadata": {},
   "outputs": [
    {
     "data": {
      "text/html": [
       "<div>\n",
       "<style scoped>\n",
       "    .dataframe tbody tr th:only-of-type {\n",
       "        vertical-align: middle;\n",
       "    }\n",
       "\n",
       "    .dataframe tbody tr th {\n",
       "        vertical-align: top;\n",
       "    }\n",
       "\n",
       "    .dataframe thead th {\n",
       "        text-align: right;\n",
       "    }\n",
       "</style>\n",
       "<table border=\"1\" class=\"dataframe\">\n",
       "  <thead>\n",
       "    <tr style=\"text-align: right;\">\n",
       "      <th></th>\n",
       "      <th>Households_Without_Vehicle</th>\n",
       "    </tr>\n",
       "    <tr>\n",
       "      <th>tract</th>\n",
       "      <th></th>\n",
       "    </tr>\n",
       "  </thead>\n",
       "  <tbody>\n",
       "    <tr>\n",
       "      <th>010300</th>\n",
       "      <td>73</td>\n",
       "    </tr>\n",
       "    <tr>\n",
       "      <th>020100</th>\n",
       "      <td>954</td>\n",
       "    </tr>\n",
       "    <tr>\n",
       "      <th>020300</th>\n",
       "      <td>72</td>\n",
       "    </tr>\n",
       "    <tr>\n",
       "      <th>030500</th>\n",
       "      <td>487</td>\n",
       "    </tr>\n",
       "    <tr>\n",
       "      <th>040200</th>\n",
       "      <td>232</td>\n",
       "    </tr>\n",
       "  </tbody>\n",
       "</table>\n",
       "</div>"
      ],
      "text/plain": [
       "0      Households_Without_Vehicle\n",
       "tract                            \n",
       "010300                         73\n",
       "020100                        954\n",
       "020300                         72\n",
       "030500                        487\n",
       "040200                        232"
      ]
     },
     "execution_count": 134,
     "metadata": {},
     "output_type": "execute_result"
    }
   ],
   "source": [
    "no_vehicle_df.head()"
   ]
  },
  {
   "cell_type": "code",
   "execution_count": 135,
   "id": "b6413434",
   "metadata": {},
   "outputs": [],
   "source": [
    "no_vehicle_df.to_csv('households_without_vehicle.csv', index=True)"
   ]
  },
  {
   "cell_type": "code",
   "execution_count": 146,
   "id": "112ca531",
   "metadata": {},
   "outputs": [],
   "source": [
    "pop_call = f\"https://api.census.gov/data/2019/acs/acs5?get=S0101_C03_001E&for=tract&in=state:42%20county:003&key=60f45d14da19259448e4ef39a0f612b15194dbe8\"\n",
    "pop_response=requests.get(pop_call)"
   ]
  },
  {
   "cell_type": "code",
   "execution_count": 147,
   "id": "ae170c8a",
   "metadata": {},
   "outputs": [
    {
     "data": {
      "text/plain": [
       "<Response [400]>"
      ]
     },
     "execution_count": 147,
     "metadata": {},
     "output_type": "execute_result"
    }
   ],
   "source": [
    "pop_response"
   ]
  },
  {
   "cell_type": "code",
   "execution_count": null,
   "id": "c0dd06d9",
   "metadata": {},
   "outputs": [],
   "source": []
  }
 ],
 "metadata": {
  "kernelspec": {
   "display_name": "Python 3 (ipykernel)",
   "language": "python",
   "name": "python3"
  },
  "language_info": {
   "codemirror_mode": {
    "name": "ipython",
    "version": 3
   },
   "file_extension": ".py",
   "mimetype": "text/x-python",
   "name": "python",
   "nbconvert_exporter": "python",
   "pygments_lexer": "ipython3",
   "version": "3.7.1"
  }
 },
 "nbformat": 4,
 "nbformat_minor": 5
}
